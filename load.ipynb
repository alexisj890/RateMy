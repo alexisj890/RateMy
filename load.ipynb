{
 "cells": [
  {
   "cell_type": "code",
   "execution_count": 2,
   "metadata": {},
   "outputs": [],
   "source": [
    "from dotenv import load_dotenv\n",
    "load_dotenv()\n",
    "import os\n",
    "import openai\n",
    "import pinecone\n",
    "from pinecone import Pinecone, ServerlessSpec"
   ]
  },
  {
   "cell_type": "code",
   "execution_count": 7,
   "metadata": {},
   "outputs": [
    {
     "ename": "PineconeConfigurationError",
     "evalue": "You haven't specified an Api-Key.",
     "output_type": "error",
     "traceback": [
      "\u001b[0;31m---------------------------------------------------------------------------\u001b[0m",
      "\u001b[0;31mPineconeConfigurationError\u001b[0m                Traceback (most recent call last)",
      "\u001b[1;32m/Users/alexis/Documents/Codes/AI Rate My /load.ipynb Cell 2\u001b[0m line \u001b[0;36m1\n\u001b[0;32m----> <a href='vscode-notebook-cell:/Users/alexis/Documents/Codes/AI%20Rate%20My%20/load.ipynb#W1sZmlsZQ%3D%3D?line=0'>1</a>\u001b[0m pc \u001b[39m=\u001b[39m Pinecone(api_key\u001b[39m=\u001b[39;49mos\u001b[39m.\u001b[39;49mgetenv(\u001b[39m\"\u001b[39;49m\u001b[39mPINECONE_API_KEY\u001b[39;49m\u001b[39m\"\u001b[39;49m))\n\u001b[1;32m      <a href='vscode-notebook-cell:/Users/alexis/Documents/Codes/AI%20Rate%20My%20/load.ipynb#W1sZmlsZQ%3D%3D?line=1'>2</a>\u001b[0m pc\u001b[39m.\u001b[39mcreate_index(\n\u001b[1;32m      <a href='vscode-notebook-cell:/Users/alexis/Documents/Codes/AI%20Rate%20My%20/load.ipynb#W1sZmlsZQ%3D%3D?line=2'>3</a>\u001b[0m     name\u001b[39m=\u001b[39m\u001b[39m\"\u001b[39m\u001b[39mrag\u001b[39m\u001b[39m\"\u001b[39m , dimension \u001b[39m=\u001b[39m \u001b[39m1536\u001b[39m, metric\u001b[39m=\u001b[39m\u001b[39m\"\u001b[39m\u001b[39mcosine\u001b[39m\u001b[39m\"\u001b[39m,spec\u001b[39m=\u001b[39mServerLessSpec(cloud\u001b[39m=\u001b[39m\u001b[39m\"\u001b[39m\u001b[39maws\u001b[39m\u001b[39m\"\u001b[39m, region\u001b[39m=\u001b[39m\u001b[39m\"\u001b[39m\u001b[39mus-east-1\u001b[39m\u001b[39m\"\u001b[39m)\n\u001b[1;32m      <a href='vscode-notebook-cell:/Users/alexis/Documents/Codes/AI%20Rate%20My%20/load.ipynb#W1sZmlsZQ%3D%3D?line=3'>4</a>\u001b[0m )\n",
      "File \u001b[0;32m/opt/miniconda3/envs/rag/lib/python3.10/site-packages/pinecone/control/pinecone.py:205\u001b[0m, in \u001b[0;36mPinecone.__init__\u001b[0;34m(self, api_key, host, proxy_url, proxy_headers, ssl_ca_certs, ssl_verify, config, additional_headers, pool_threads, index_api, **kwargs)\u001b[0m\n\u001b[1;32m    203\u001b[0m         \u001b[39mself\u001b[39m\u001b[39m.\u001b[39mconfig \u001b[39m=\u001b[39m config\n\u001b[1;32m    204\u001b[0m \u001b[39melse\u001b[39;00m:\n\u001b[0;32m--> 205\u001b[0m     \u001b[39mself\u001b[39m\u001b[39m.\u001b[39mconfig \u001b[39m=\u001b[39m PineconeConfig\u001b[39m.\u001b[39;49mbuild(\n\u001b[1;32m    206\u001b[0m         api_key\u001b[39m=\u001b[39;49mapi_key,\n\u001b[1;32m    207\u001b[0m         host\u001b[39m=\u001b[39;49mhost,\n\u001b[1;32m    208\u001b[0m         additional_headers\u001b[39m=\u001b[39;49madditional_headers,\n\u001b[1;32m    209\u001b[0m         proxy_url\u001b[39m=\u001b[39;49mproxy_url,\n\u001b[1;32m    210\u001b[0m         proxy_headers\u001b[39m=\u001b[39;49mproxy_headers,\n\u001b[1;32m    211\u001b[0m         ssl_ca_certs\u001b[39m=\u001b[39;49mssl_ca_certs,\n\u001b[1;32m    212\u001b[0m         ssl_verify\u001b[39m=\u001b[39;49mssl_verify,\n\u001b[1;32m    213\u001b[0m         \u001b[39m*\u001b[39;49m\u001b[39m*\u001b[39;49mkwargs,\n\u001b[1;32m    214\u001b[0m     )\n\u001b[1;32m    216\u001b[0m \u001b[39mif\u001b[39;00m kwargs\u001b[39m.\u001b[39mget(\u001b[39m\"\u001b[39m\u001b[39mopenapi_config\u001b[39m\u001b[39m\"\u001b[39m, \u001b[39mNone\u001b[39;00m):\n\u001b[1;32m    217\u001b[0m     \u001b[39mraise\u001b[39;00m \u001b[39mException\u001b[39;00m(\n\u001b[1;32m    218\u001b[0m         \u001b[39m\"\u001b[39m\u001b[39mPassing openapi_config is no longer supported. Please pass settings such as proxy_url, proxy_headers, ssl_ca_certs, and ssl_verify directly to the Pinecone constructor as keyword arguments. See the README at https://github.com/pinecone-io/pinecone-python-client for examples.\u001b[39m\u001b[39m\"\u001b[39m,\n\u001b[1;32m    219\u001b[0m     )\n",
      "File \u001b[0;32m/opt/miniconda3/envs/rag/lib/python3.10/site-packages/pinecone/config/pinecone_config.py:29\u001b[0m, in \u001b[0;36mPineconeConfig.build\u001b[0;34m(api_key, host, additional_headers, **kwargs)\u001b[0m\n\u001b[1;32m     26\u001b[0m     \u001b[39mexcept\u001b[39;00m \u001b[39mException\u001b[39;00m \u001b[39mas\u001b[39;00m e:\n\u001b[1;32m     27\u001b[0m         logger\u001b[39m.\u001b[39mwarn(\u001b[39mf\u001b[39m\u001b[39m\"\u001b[39m\u001b[39mIgnoring PINECONE_ADDITIONAL_HEADERS: \u001b[39m\u001b[39m{\u001b[39;00me\u001b[39m}\u001b[39;00m\u001b[39m\"\u001b[39m)\n\u001b[0;32m---> 29\u001b[0m \u001b[39mreturn\u001b[39;00m ConfigBuilder\u001b[39m.\u001b[39;49mbuild(\n\u001b[1;32m     30\u001b[0m     api_key\u001b[39m=\u001b[39;49mapi_key,\n\u001b[1;32m     31\u001b[0m     host\u001b[39m=\u001b[39;49mhost,\n\u001b[1;32m     32\u001b[0m     additional_headers\u001b[39m=\u001b[39;49madditional_headers,\n\u001b[1;32m     33\u001b[0m     \u001b[39m*\u001b[39;49m\u001b[39m*\u001b[39;49mkwargs,\n\u001b[1;32m     34\u001b[0m )\n",
      "File \u001b[0;32m/opt/miniconda3/envs/rag/lib/python3.10/site-packages/pinecone/config/config.py:58\u001b[0m, in \u001b[0;36mConfigBuilder.build\u001b[0;34m(api_key, host, proxy_url, proxy_headers, ssl_ca_certs, ssl_verify, additional_headers, **kwargs)\u001b[0m\n\u001b[1;32m     55\u001b[0m source_tag \u001b[39m=\u001b[39m kwargs\u001b[39m.\u001b[39mpop(SOURCE_TAG, \u001b[39mNone\u001b[39;00m)\n\u001b[1;32m     57\u001b[0m \u001b[39mif\u001b[39;00m \u001b[39mnot\u001b[39;00m api_key:\n\u001b[0;32m---> 58\u001b[0m     \u001b[39mraise\u001b[39;00m PineconeConfigurationError(\u001b[39m\"\u001b[39m\u001b[39mYou haven\u001b[39m\u001b[39m'\u001b[39m\u001b[39mt specified an Api-Key.\u001b[39m\u001b[39m\"\u001b[39m)\n\u001b[1;32m     59\u001b[0m \u001b[39mif\u001b[39;00m \u001b[39mnot\u001b[39;00m host:\n\u001b[1;32m     60\u001b[0m     \u001b[39mraise\u001b[39;00m PineconeConfigurationError(\u001b[39m\"\u001b[39m\u001b[39mYou haven\u001b[39m\u001b[39m'\u001b[39m\u001b[39mt specified a host.\u001b[39m\u001b[39m\"\u001b[39m)\n",
      "\u001b[0;31mPineconeConfigurationError\u001b[0m: You haven't specified an Api-Key."
     ]
    }
   ],
   "source": [
    "pc = Pinecone(api_key=os.getenv(\"PINECONE_API_KEY\"))\n",
    "pc.create_index(\n",
    "    name=\"rag\" , dimension = 1536, metric=\"cosine\",spec=ServerLessSpec(cloud=\"aws\", region=\"us-east-1\")\n",
    ")"
   ]
  }
 ],
 "metadata": {
  "kernelspec": {
   "display_name": "Python 3",
   "language": "python",
   "name": "python3"
  },
  "language_info": {
   "codemirror_mode": {
    "name": "ipython",
    "version": 3
   },
   "file_extension": ".py",
   "mimetype": "text/x-python",
   "name": "python",
   "nbconvert_exporter": "python",
   "pygments_lexer": "ipython3",
   "version": "3.10.14"
  },
  "orig_nbformat": 4
 },
 "nbformat": 4,
 "nbformat_minor": 2
}
